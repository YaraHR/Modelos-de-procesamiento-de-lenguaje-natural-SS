{
 "cells": [
  {
   "cell_type": "markdown",
   "id": "9e34dcb7",
   "metadata": {},
   "source": [
    "# Lista con métricas por texto (clustering, eficiencia global, centralidad,etc)"
   ]
  },
  {
   "cell_type": "code",
   "execution_count": null,
   "id": "c2ed2a81",
   "metadata": {},
   "outputs": [],
   "source": [
    "pip install text2graphapi"
   ]
  },
  {
   "cell_type": "code",
   "execution_count": null,
   "id": "9fb7407d",
   "metadata": {},
   "outputs": [],
   "source": [
    "from text2graphapi.src.Cooccurrence import Cooccurrence #Se importa el grafo tipo co-ocurrencia"
   ]
  },
  {
   "cell_type": "code",
   "execution_count": null,
   "id": "8920243a",
   "metadata": {},
   "outputs": [],
   "source": [
    "import numpy as np\n",
    "import pandas as pd\n",
    "import networkx as nx\n",
    "from PIL import Image\n",
    "import matplotlib.pyplot as plt"
   ]
  },
  {
   "cell_type": "markdown",
   "id": "0eefbfdc",
   "metadata": {},
   "source": [
    "## Subtask_1 - Train/Test"
   ]
  },
  {
   "cell_type": "code",
   "execution_count": null,
   "id": "ade89ae3-62c8-4c0c-a043-24cfbfc2920e",
   "metadata": {},
   "outputs": [],
   "source": [
    "ruta_1 = r'C:\\Users\\Yara\\Documents\\Servicio Social\\Autextification-2024\\subtask_1\\Entrenar modelo\\train_S1.csv'\n",
    "ruta_2 = r'C:\\Users\\Yara\\Documents\\Servicio Social\\Autextification-2024\\Entrenar modelo\\test_S1.csv'\n",
    "\n",
    "train_data = pd.read_csv(ruta_1)\n",
    "test_data = pd.read_csv(ruta_2)"
   ]
  },
  {
   "cell_type": "code",
   "execution_count": null,
   "id": "64042416-09fe-4ece-aa13-ec9ea395fb94",
   "metadata": {},
   "outputs": [],
   "source": [
    "train_data.head()"
   ]
  },
  {
   "cell_type": "code",
   "execution_count": null,
   "id": "c1b1c5d8-bc23-4940-8640-1801e48210ba",
   "metadata": {},
   "outputs": [],
   "source": [
    "test_data.head()"
   ]
  },
  {
   "cell_type": "code",
   "execution_count": null,
   "id": "01552d28-acfd-4668-a3e4-6e0aa6cca51a",
   "metadata": {},
   "outputs": [],
   "source": [
    "df_train = train_data[['id', 'text']]\n",
    "df_train = df_train.rename(columns={'text': 'doc'})\n",
    "doc_1 = df_train.to_dict(orient='records')\n",
    "\n",
    "\n",
    "df_test = test_data[['id', 'text']]\n",
    "df_test = df_test.rename(columns={'text': 'doc'})\n",
    "doc_2 = df_test.to_dict(orient='records')"
   ]
  },
  {
   "cell_type": "code",
   "execution_count": null,
   "id": "8a66171b-9aee-4ed1-9a87-9f4027a8237d",
   "metadata": {},
   "outputs": [],
   "source": [
    "print('documentos train: ',len(doc_1), '\\n','documentos test: ',len(doc_2))"
   ]
  },
  {
   "cell_type": "code",
   "execution_count": null,
   "id": "6f3fd310",
   "metadata": {},
   "outputs": [],
   "source": [
    "#Se define el grafo tipo co-ocurrencia\n",
    "coocc_graph = Cooccurrence(graph_type = 'DiGraph',\n",
    "                                   language = 'sp',\n",
    "                                   apply_prep = False,\n",
    "                                   window_size= 3,\n",
    "                                   output_format = 'networkx')"
   ]
  },
  {
   "cell_type": "code",
   "execution_count": null,
   "id": "6f86eb9d-e921-49c6-b380-9a104f841010",
   "metadata": {},
   "outputs": [],
   "source": [
    "coocc_graph_train = coocc_graph.transform(doc_1)\n",
    "coocc_graph_test = coocc_graph.transform(doc_2)"
   ]
  },
  {
   "cell_type": "code",
   "execution_count": null,
   "id": "bdc5a6ec-a6a8-47c9-899e-88b930be3ef2",
   "metadata": {},
   "outputs": [],
   "source": [
    "#Se hacen 2 listas para guardar los grafos\n",
    "list_graph_train = []\n",
    "\n",
    "for grafo in coocc_graph_train:\n",
    "    graph = grafo['graph']\n",
    "    list_graph_train.append(graph)"
   ]
  },
  {
   "cell_type": "code",
   "execution_count": null,
   "id": "a33f4b41-b7c5-4487-9f35-169ebf4d857a",
   "metadata": {},
   "outputs": [],
   "source": [
    "list_graph_test = []\n",
    "\n",
    "for grafo in coocc_graph_test:\n",
    "    graph = grafo['graph']\n",
    "    list_graph_test.append(graph)"
   ]
  },
  {
   "cell_type": "markdown",
   "id": "a7e6b7d1-a09a-4db9-a57b-671183adf136",
   "metadata": {},
   "source": [
    "## Comienzan las métricas de la paquetería Networkx"
   ]
  },
  {
   "cell_type": "code",
   "execution_count": null,
   "id": "9093be74",
   "metadata": {},
   "outputs": [],
   "source": [
    "def clustering(list_graph):\n",
    "    list_clustering = []\n",
    "    for grafo in list_graph:\n",
    "        clustering = nx.average_clustering(grafo)\n",
    "        list_clustering.append(clustering)\n",
    "    return  list_clustering"
   ]
  },
  {
   "cell_type": "code",
   "execution_count": null,
   "id": "de8be3d9-0284-4e59-b570-5fea7a844bc3",
   "metadata": {},
   "outputs": [],
   "source": [
    "cl1 = clustering(list_graph_train)\n",
    "cl2 = clustering(list_graph_test)"
   ]
  },
  {
   "cell_type": "code",
   "execution_count": null,
   "id": "ba19c408",
   "metadata": {},
   "outputs": [],
   "source": [
    "def efficiency(list_graph):\n",
    "    list_efficiency = []\n",
    "    for grafo in list_graph:\n",
    "        grafo = grafo.to_undirected()\n",
    "        efficiency = nx.global_efficiency(grafo)\n",
    "        list_efficiency.append(efficiency)\n",
    "    return list_efficiency"
   ]
  },
  {
   "cell_type": "code",
   "execution_count": null,
   "id": "c201fc45-8547-4eb9-83b8-27e130b5dbb7",
   "metadata": {},
   "outputs": [],
   "source": [
    "e1 = efficiency(list_graph_train)\n",
    "e2 = efficiency(list_graph_test)"
   ]
  },
  {
   "cell_type": "code",
   "execution_count": null,
   "id": "d21902c4",
   "metadata": {},
   "outputs": [],
   "source": [
    "def closeness(list_graph):\n",
    "    list_closeness = []\n",
    "    for grafo in list_graph:\n",
    "        closeness = nx.closeness_centrality(grafo)\n",
    "        list_closeness.append(sum(closeness.values()) / len(closeness.values()))\n",
    "    return list_closeness"
   ]
  },
  {
   "cell_type": "code",
   "execution_count": null,
   "id": "2db7a605",
   "metadata": {},
   "outputs": [],
   "source": [
    "c1 = closeness(list_graph_train)\n",
    "c2 = closeness(list_graph_test)"
   ]
  },
  {
   "cell_type": "code",
   "execution_count": null,
   "id": "274c7743",
   "metadata": {},
   "outputs": [],
   "source": [
    "def degree(list_graph):\n",
    "    list_degree = []\n",
    "    for grafo in list_graph:\n",
    "        degree = np.mean(list(dict(grafo.degree()).values()))\n",
    "        list_degree.append(degree)\n",
    "    return list_degree"
   ]
  },
  {
   "cell_type": "code",
   "execution_count": null,
   "id": "94ca853e",
   "metadata": {},
   "outputs": [],
   "source": [
    "d1 = degree(list_graph_train)\n",
    "d2 = degree(list_graph_test)"
   ]
  },
  {
   "cell_type": "code",
   "execution_count": null,
   "id": "602dcf54",
   "metadata": {},
   "outputs": [],
   "source": [
    "def degree_cent(list_graph):\n",
    "    list_degree_cent = []\n",
    "    for grafo in list_graph:\n",
    "        centrality = list(nx.degree_centrality(grafo).values())\n",
    "        count = np.mean(centrality)\n",
    "        list_degree_cent.append(count)\n",
    "    return list_degree_cent"
   ]
  },
  {
   "cell_type": "code",
   "execution_count": null,
   "id": "0c131351",
   "metadata": {},
   "outputs": [],
   "source": [
    "dc_1 = degree_cent(list_graph_train)\n",
    "dc_2 = degree_cent(list_graph_test)"
   ]
  },
  {
   "cell_type": "code",
   "execution_count": null,
   "id": "3bde91e1",
   "metadata": {},
   "outputs": [],
   "source": [
    "def betweenness(list_graph):\n",
    "    list_betweenness = []\n",
    "    for grafo in list_graph:\n",
    "        betweenness = list(nx.betweenness_centrality(grafo).values())\n",
    "        count = np.mean(betweenness)\n",
    "        list_betweenness.append(count)\n",
    "    return list_betweenness"
   ]
  },
  {
   "cell_type": "code",
   "execution_count": null,
   "id": "06487bff",
   "metadata": {},
   "outputs": [],
   "source": [
    "b1 = betweenness(list_graph_train)\n",
    "b2 = betweenness(list_graph_test)"
   ]
  },
  {
   "cell_type": "code",
   "execution_count": null,
   "id": "77cd4fd9",
   "metadata": {},
   "outputs": [],
   "source": [
    "def neighbor_degree(list_graph):\n",
    "    list_neighbor = []\n",
    "    for grafo in list_graph:\n",
    "        count = np.mean(list(nx.average_neighbor_degree(grafo).values()))\n",
    "        list_neighbor.append(count)\n",
    "    return list_neighbor"
   ]
  },
  {
   "cell_type": "code",
   "execution_count": null,
   "id": "ea9a49d7",
   "metadata": {},
   "outputs": [],
   "source": [
    "n1 = neighbor_degree(list_graph_train)\n",
    "n2 = neighbor_degree(list_graph_test)"
   ]
  },
  {
   "cell_type": "code",
   "execution_count": null,
   "id": "fb6d9315",
   "metadata": {},
   "outputs": [],
   "source": [
    "def assortativity(list_graph):\n",
    "    list_assortativity = []\n",
    "    for grafo in list_graph:\n",
    "        try:\n",
    "            assort = nx.degree_pearson_correlation_coefficient(grafo)\n",
    "        except:\n",
    "            assort = np.nan\n",
    "        list_assortativity.append(assort)\n",
    "    return list_assortativity"
   ]
  },
  {
   "cell_type": "code",
   "execution_count": null,
   "id": "78637660",
   "metadata": {},
   "outputs": [],
   "source": [
    "as_1 = assortativity(list_graph_train)\n",
    "as_2 = assortativity(list_graph_test)"
   ]
  },
  {
   "cell_type": "code",
   "execution_count": null,
   "id": "3f6db3da",
   "metadata": {},
   "outputs": [],
   "source": [
    "def transitivity(list_graph):\n",
    "    list_transitivity = []\n",
    "    for grafo in list_graph:\n",
    "        trans = nx.transitivity(grafo)\n",
    "        list_transitivity.append(trans)\n",
    "    return list_transitivity"
   ]
  },
  {
   "cell_type": "code",
   "execution_count": null,
   "id": "ce495ab1",
   "metadata": {},
   "outputs": [],
   "source": [
    "t1 = transitivity(list_graph_train)\n",
    "t2 = transitivity(list_graph_test)"
   ]
  },
  {
   "cell_type": "code",
   "execution_count": null,
   "id": "09761bc5",
   "metadata": {},
   "outputs": [],
   "source": [
    "def number_components(list_graph):\n",
    "    list_number_components = []\n",
    "    for grafo in list_graph:\n",
    "        grafo = grafo.to_undirected()\n",
    "        num_components = nx.number_connected_components(grafo)\n",
    "        list_number_components.append(num_components)\n",
    "    return list_number_components"
   ]
  },
  {
   "cell_type": "code",
   "execution_count": null,
   "id": "745455fc",
   "metadata": {},
   "outputs": [],
   "source": [
    "nc_1 = number_components(list_graph_train)\n",
    "nc_2 = number_components(list_graph_test)"
   ]
  },
  {
   "cell_type": "code",
   "execution_count": null,
   "id": "d822296e",
   "metadata": {},
   "outputs": [],
   "source": [
    "def number_strong_comp(list_graph):\n",
    "    list_number_strong_comp = []\n",
    "    for grafo in list_graph:\n",
    "        num_strong_components = nx.number_strongly_connected_components(grafo)\n",
    "        list_number_strong_comp.append(num_strong_components)\n",
    "    return list_number_strong_comp"
   ]
  },
  {
   "cell_type": "code",
   "execution_count": null,
   "id": "087071ee",
   "metadata": {},
   "outputs": [],
   "source": [
    "nsc_1 = number_strong_comp(list_graph_train)\n",
    "nsc_2 = number_strong_comp(list_graph_test)"
   ]
  },
  {
   "cell_type": "code",
   "execution_count": null,
   "id": "a6b0c5a3",
   "metadata": {},
   "outputs": [],
   "source": [
    "def entropy_centr(list_graph):\n",
    "    list_entropy_centr = []\n",
    "    for grafo in list_graph:\n",
    "        centrality = list(nx.degree_centrality((grafo)).values())\n",
    "        num_entropy = entropy(centrality)\n",
    "        list_entropy_centr.append(num_entropy)\n",
    "    return list_entropy_centr"
   ]
  },
  {
   "cell_type": "code",
   "execution_count": null,
   "id": "a474524f",
   "metadata": {},
   "outputs": [],
   "source": [
    "ect_1 = entropy_centr(list_graph_train)\n",
    "ect_2 = entropy_centr(list_graph_test)"
   ]
  },
  {
   "cell_type": "code",
   "execution_count": null,
   "id": "21d883f7",
   "metadata": {},
   "outputs": [],
   "source": [
    "def entropy_clos(list_graph):\n",
    "    list_entropy_clos = []\n",
    "    for grafo in list_graph:\n",
    "        centrality = list(nx.closeness_centrality((grafo)).values())\n",
    "        num_entropy = entropy(centrality)\n",
    "        list_entropy_clos.append(num_entropy)\n",
    "    return list_entropy_clos"
   ]
  },
  {
   "cell_type": "code",
   "execution_count": null,
   "id": "20524401",
   "metadata": {},
   "outputs": [],
   "source": [
    "ecl_1 = entropy_clos(list_graph_train)\n",
    "ecl_2 = entropy_clos(list_graph_test)"
   ]
  },
  {
   "cell_type": "code",
   "execution_count": null,
   "id": "88c124ab",
   "metadata": {},
   "outputs": [],
   "source": [
    "def sparseness(list_graph):\n",
    "    list_sparseness = []\n",
    "    for grafo in list_graph:\n",
    "        mat = nx.adjacency_matrix((grafo)).todense()\n",
    "        num_num = np.count_nonzero(mat)\n",
    "        num_val = np.prod(mat.shape)\n",
    "        sparseness = float(num_num) / num_val\n",
    "        list_sparseness.append(sparseness)\n",
    "    return list_sparseness"
   ]
  },
  {
   "cell_type": "code",
   "execution_count": null,
   "id": "b9661a24",
   "metadata": {},
   "outputs": [],
   "source": [
    "s1 = sparseness(list_graph_train)\n",
    "s2 = sparseness(list_graph_test)"
   ]
  },
  {
   "cell_type": "code",
   "execution_count": null,
   "id": "c00704bb-eb6e-4ce9-8204-374264d58c48",
   "metadata": {},
   "outputs": [],
   "source": [
    "def nodes(list_graph):\n",
    "    list_nodes = []\n",
    "    for grafo in list_graph:\n",
    "        count = nx.number_of_nodes(grafo)\n",
    "        list_nodes.append(count)\n",
    "    return list_nodes"
   ]
  },
  {
   "cell_type": "code",
   "execution_count": null,
   "id": "bb1290e3-0d4f-453c-bbe8-ba794e8659fa",
   "metadata": {},
   "outputs": [],
   "source": [
    "nt1 = nodes(list_graph_train)\n",
    "nt2 = nodes(list_graph_test)"
   ]
  },
  {
   "cell_type": "code",
   "execution_count": null,
   "id": "5837d5a6-a5c5-4184-a9fb-2bc91b9294cc",
   "metadata": {},
   "outputs": [],
   "source": [
    "def edges(list_graph):\n",
    "    list_edges = []\n",
    "    for grafo in list_graph:\n",
    "        count = nx.number_of_edges(grafo)\n",
    "        list_edges.append(count)\n",
    "    return list_edges"
   ]
  },
  {
   "cell_type": "code",
   "execution_count": null,
   "id": "d8e0ca31-cd31-4f33-b24a-bb0ce687197d",
   "metadata": {},
   "outputs": [],
   "source": [
    "et1 = edges(list_graph_train)\n",
    "et2 = edges(list_graph_test)"
   ]
  },
  {
   "cell_type": "code",
   "execution_count": null,
   "id": "3ca3893b-1072-47f6-bf31-f5545536c6dd",
   "metadata": {},
   "outputs": [],
   "source": [
    "def node_connectivity(list_graph):\n",
    "    list_connectivity = []\n",
    "    for grafo in list_graph:\n",
    "        connectivity = approximation.node_connectivity(grafo)\n",
    "        list_connectivity.append(connectivity)\n",
    "    return list_connectivity"
   ]
  },
  {
   "cell_type": "code",
   "execution_count": null,
   "id": "bc3aefba-8f11-4e04-a794-f08f07b20c8d",
   "metadata": {},
   "outputs": [],
   "source": [
    "cont1 = node_connectivity(list_graph_train)\n",
    "cont2 = node_connectivity(list_graph_test)"
   ]
  },
  {
   "cell_type": "code",
   "execution_count": null,
   "id": "4c4d1ca5-0b46-4682-845e-5ee1b773c819",
   "metadata": {},
   "outputs": [],
   "source": [
    "def density(list_graph):\n",
    "    list_density = []\n",
    "    for grafo in list_graph:\n",
    "        density = nx.density(grafo)\n",
    "        list_density.append(density)\n",
    "    return list_density"
   ]
  },
  {
   "cell_type": "code",
   "execution_count": null,
   "id": "6f1f7ea2-d00c-4ba0-8e41-8df331f50f99",
   "metadata": {},
   "outputs": [],
   "source": [
    "dt1 = density(list_graph_train)\n",
    "dt2 = density(list_graph_test)"
   ]
  },
  {
   "cell_type": "code",
   "execution_count": null,
   "id": "998e9aa7-1902-4f52-bd48-3b57758800aa",
   "metadata": {},
   "outputs": [],
   "source": [
    "def self_loop(list_graph):\n",
    "    list_sloop = []\n",
    "    for grafo in list_graph:\n",
    "        sloop = nx.number_of_selfloops(grafo)\n",
    "        list_sloop.append(sloop)\n",
    "    return list_sloop"
   ]
  },
  {
   "cell_type": "code",
   "execution_count": null,
   "id": "8dee958e-9400-405d-8783-2b15020a1f45",
   "metadata": {},
   "outputs": [],
   "source": [
    "slt1 = self_loop(list_graph_train)\n",
    "slt2 = self_loop(list_graph_test)"
   ]
  },
  {
   "cell_type": "code",
   "execution_count": null,
   "id": "c2da4c8f-58f6-4c90-bf65-9f1d6849eaf2",
   "metadata": {},
   "outputs": [],
   "source": [
    "def girth(list_graph):\n",
    "    list_girth = []\n",
    "    for grafo in list_graph:\n",
    "        grafo = grafo.to_undirected()\n",
    "        girth = nx.girth(grafo)\n",
    "        list_girth.append(girth)\n",
    "    return list_girth"
   ]
  },
  {
   "cell_type": "code",
   "execution_count": null,
   "id": "7b3be266-821f-48f2-82e4-2d49cbdb8258",
   "metadata": {},
   "outputs": [],
   "source": [
    "gt1 = girth(list_graph_train)\n",
    "gt2 = girth(list_graph_test)"
   ]
  },
  {
   "cell_type": "markdown",
   "id": "2512f3c5-3306-4793-a078-00f2df1985e4",
   "metadata": {},
   "source": [
    "### Train"
   ]
  },
  {
   "cell_type": "code",
   "execution_count": null,
   "id": "b5bcf2a5",
   "metadata": {},
   "outputs": [],
   "source": [
    "#Se crea otro dataframe donde se guarden las métricas por texto\n",
    "df_t1 = pd.DataFrame({'id': df_train['id'].tolist(),\n",
    "                  'label': train_data['label'].tolist(),\n",
    "                  'clustering': cl1,\n",
    "                  'global_efficiency': e1,\n",
    "                  'closeness': c1,\n",
    "                 'degree': d1,\n",
    "                 'degree_centrality': dc_1,\n",
    "                'betweenness': b1,\n",
    "                'neighbor_degree': n1,\n",
    "                'assortativity': as_1,\n",
    "                'transitivity': t1,\n",
    "                'number_strong_comp': nsc_1,\n",
    "                'entropy_centr': ect_1,\n",
    "                'entropy_clos': ecl_1,\n",
    "                'sparseness': s1,\n",
    "                    'nodes': nt1,\n",
    "                  'edges': et1,\n",
    "                  'node_connectivity': cont1,\n",
    "                 'density': dt1,\n",
    "                 'self_loop': slt1,\n",
    "                'girth': gt1})\n",
    "df_t1.head()"
   ]
  },
  {
   "cell_type": "code",
   "execution_count": null,
   "id": "e768abe3-076f-4fd3-a06e-04cbcb4f948f",
   "metadata": {},
   "outputs": [],
   "source": [
    "df_t1.to_csv('data-train-feat.csv', index=False)"
   ]
  },
  {
   "cell_type": "markdown",
   "id": "a393e2cf-2b96-4693-a744-9f76b8bd6f00",
   "metadata": {},
   "source": [
    "### Test"
   ]
  },
  {
   "cell_type": "code",
   "execution_count": null,
   "id": "a897df62",
   "metadata": {},
   "outputs": [],
   "source": [
    "df_t2 = pd.DataFrame({'id': df_test['id'].tolist(),\n",
    "                  'label': test_data['label'].tolist(),\n",
    "                  'clustering': cl2,\n",
    "                  'global_efficiency': e2,\n",
    "                  'closeness': c2,\n",
    "                 'degree': d2,\n",
    "                 'degree_centrality': dc_2,\n",
    "                'betweenness': b2,\n",
    "                'neighbor_degree': n2,\n",
    "                'assortativity': as_2,\n",
    "                'transitivity': t2,\n",
    "                'number_strong_comp': nsc_2,\n",
    "                'entropy_centr': ect_2,\n",
    "                'entropy_clos': ecl_2,\n",
    "                'sparseness': s2,\n",
    "                    'nodes': nt2,\n",
    "                  'edges': et2,\n",
    "                  'node_connectivity': cont2,\n",
    "                 'density': dt2,\n",
    "                 'self_loop': slt2,\n",
    "                'girth': gt2})\n",
    "df_t2.head()"
   ]
  },
  {
   "cell_type": "code",
   "execution_count": null,
   "id": "69992b3e",
   "metadata": {},
   "outputs": [],
   "source": [
    "df_t2.to_csv('data-test-feat.csv', index=False)"
   ]
  },
  {
   "cell_type": "markdown",
   "id": "6b3aa147",
   "metadata": {},
   "source": [
    "## Subtask_2"
   ]
  },
  {
   "cell_type": "markdown",
   "id": "09b11efa-665f-4428-b125-d303f2255f72",
   "metadata": {},
   "source": [
    "Para la subtask 2 se hace lo mismo pero se separan los textos por ABCDEF que corresponden a distintas máquinas generadoras de texto"
   ]
  },
  {
   "cell_type": "code",
   "execution_count": null,
   "id": "208755a7",
   "metadata": {},
   "outputs": [],
   "source": [
    "ruta_2 = r'C:\\Users\\Yara\\Documents\\Servicio Social\\Autextification-2024\\subtask_2\\subtask_2.jsonl'\n",
    "\n",
    "df_2 = pd.read_json(ruta_2, lines=True)\n",
    "\n",
    "df_2.head()"
   ]
  },
  {
   "cell_type": "code",
   "execution_count": null,
   "id": "b8486e79",
   "metadata": {},
   "outputs": [],
   "source": [
    "df_ABCDEF = df_2[['id', 'text']]\n",
    "df_ABCDEF = df_ABCDEF.rename(columns={'text': 'doc'})\n",
    "doc_ABCDEF = df_ABCDEF.to_dict(orient='records')"
   ]
  },
  {
   "cell_type": "code",
   "execution_count": null,
   "id": "d402c95e",
   "metadata": {},
   "outputs": [],
   "source": [
    "print('documentos-generados (A, B, C, D, E, F): ',len(doc_ABCDEF))"
   ]
  },
  {
   "cell_type": "code",
   "execution_count": null,
   "id": "2b71cbc9",
   "metadata": {},
   "outputs": [],
   "source": [
    "coocc_graph_ABCDEF = coocc_graph.transform(doc_ABCDEF)"
   ]
  },
  {
   "cell_type": "code",
   "execution_count": null,
   "id": "635957d6",
   "metadata": {},
   "outputs": [],
   "source": [
    "list_graph_ABCDEF = []\n",
    "\n",
    "for grafo in coocc_graph_ABCDEF:\n",
    "    graph = grafo['graph']\n",
    "    list_graph_ABCDEF.append(graph)"
   ]
  },
  {
   "cell_type": "code",
   "execution_count": null,
   "id": "dc9db72d",
   "metadata": {},
   "outputs": [],
   "source": [
    "cl_ABCDEF = clustering(list_graph_ABCDEF)"
   ]
  },
  {
   "cell_type": "code",
   "execution_count": null,
   "id": "f3309c5f",
   "metadata": {},
   "outputs": [],
   "source": [
    "e_ABCDEF = efficiency(list_graph_ABCDEF)"
   ]
  },
  {
   "cell_type": "code",
   "execution_count": null,
   "id": "eb214d64",
   "metadata": {},
   "outputs": [],
   "source": [
    "c_ABCDEF = closeness(list_graph_ABCDEF)"
   ]
  },
  {
   "cell_type": "code",
   "execution_count": null,
   "id": "8741fce8",
   "metadata": {},
   "outputs": [],
   "source": [
    "d_ABCDEF = degree(list_graph_ABCDEF)"
   ]
  },
  {
   "cell_type": "code",
   "execution_count": null,
   "id": "1e1dd06c",
   "metadata": {},
   "outputs": [],
   "source": [
    "dc_ABCDEF = degree_cent(list_graph_ABCDEF)"
   ]
  },
  {
   "cell_type": "code",
   "execution_count": null,
   "id": "4f7f4d5e",
   "metadata": {},
   "outputs": [],
   "source": [
    "b_ABCDEF = betweenness(list_graph_ABCDEF)"
   ]
  },
  {
   "cell_type": "code",
   "execution_count": null,
   "id": "58343df9",
   "metadata": {},
   "outputs": [],
   "source": [
    "n_ABCDEF = neighbor_degree(list_graph_ABCDEF)"
   ]
  },
  {
   "cell_type": "code",
   "execution_count": null,
   "id": "94b87087",
   "metadata": {},
   "outputs": [],
   "source": [
    "as_ABCDEF = assortativity(list_graph_ABCDEF)"
   ]
  },
  {
   "cell_type": "code",
   "execution_count": null,
   "id": "d8969177",
   "metadata": {},
   "outputs": [],
   "source": [
    "t_ABCDEF = transitivity(list_graph_ABCDEF)"
   ]
  },
  {
   "cell_type": "code",
   "execution_count": null,
   "id": "02351812",
   "metadata": {},
   "outputs": [],
   "source": [
    "nc_ABCDEF = number_components(list_graph_ABCDEF)"
   ]
  },
  {
   "cell_type": "code",
   "execution_count": null,
   "id": "0d1138b9",
   "metadata": {},
   "outputs": [],
   "source": [
    "nsc_ABCDEF = number_strong_comp(list_graph_ABCDEF)"
   ]
  },
  {
   "cell_type": "code",
   "execution_count": null,
   "id": "d7913286",
   "metadata": {},
   "outputs": [],
   "source": [
    "ect_ABCDEF = entropy_centr(list_graph_ABCDEF)"
   ]
  },
  {
   "cell_type": "code",
   "execution_count": null,
   "id": "011f4cfd",
   "metadata": {},
   "outputs": [],
   "source": [
    "ecl_ABDCEF = entropy_clos(list_graph_ABCDEF)"
   ]
  },
  {
   "cell_type": "code",
   "execution_count": null,
   "id": "57a48edc",
   "metadata": {},
   "outputs": [],
   "source": [
    "s_ABCDEF = sparseness(list_graph_ABCDEF)"
   ]
  },
  {
   "cell_type": "code",
   "execution_count": null,
   "id": "33f6d732-246a-447d-90d3-9a4641148291",
   "metadata": {},
   "outputs": [],
   "source": [
    "nt_ABCDEF = nodes(list_graph_ABCDEF)"
   ]
  },
  {
   "cell_type": "code",
   "execution_count": null,
   "id": "92db58de-0f6c-4167-bbf7-21c5c9914e28",
   "metadata": {},
   "outputs": [],
   "source": [
    "et_ABCDEF = edges(list_graph_train_ABCDEF)"
   ]
  },
  {
   "cell_type": "code",
   "execution_count": null,
   "id": "bf0eef3b-aacc-4c62-91ce-62945d8e6204",
   "metadata": {},
   "outputs": [],
   "source": [
    "cont_ABCDEF = node_connectivity(list_graph_ABCDEF)"
   ]
  },
  {
   "cell_type": "code",
   "execution_count": null,
   "id": "6155edee-b1d6-4360-99b5-41fc02c5434b",
   "metadata": {},
   "outputs": [],
   "source": [
    "dt_ABCDEF = density(list_graph_ABCDEF)"
   ]
  },
  {
   "cell_type": "code",
   "execution_count": null,
   "id": "0c715725-4a52-4642-8bfe-9912ca69b542",
   "metadata": {},
   "outputs": [],
   "source": [
    "slt_ABCDEF = self_loop(list_graph_ABCDEF)"
   ]
  },
  {
   "cell_type": "code",
   "execution_count": null,
   "id": "3fb3cfbd-d3e2-43c9-aa12-a918a8843c3a",
   "metadata": {},
   "outputs": [],
   "source": [
    "gt_ABCDEF = girth(list_graph_ABCDEF)"
   ]
  },
  {
   "cell_type": "code",
   "execution_count": null,
   "id": "72dabf5f",
   "metadata": {},
   "outputs": [],
   "source": [
    "id_list_ABCDEF = df_ABCDEF['id'].tolist()\n",
    "print(len(id_list_ABCDEF))"
   ]
  },
  {
   "cell_type": "code",
   "execution_count": null,
   "id": "ad7b077d",
   "metadata": {},
   "outputs": [],
   "source": [
    "label_list_ABCDEF = df_2['label'].tolist()\n",
    "print(len(label_list_ABCDEF))"
   ]
  },
  {
   "cell_type": "code",
   "execution_count": null,
   "id": "a33b830e",
   "metadata": {},
   "outputs": [],
   "source": [
    "df_subtask_2 = pd.DataFrame({'id': id_list_ABCDEF,\n",
    "                          'label': label_list_ABCDEF,\n",
    "                          'clustering': cl_ABCDEF,\n",
    "                          'global_efficiency': e_ABCDEF,\n",
    "                          'closeness': c_ABCDEF,\n",
    "                                     'degree': d_ABCDEF,\n",
    "                            'degree_centrality': dc_ABCDEF,\n",
    "                            'betweenness': b_ABCDEF,\n",
    "                            'neighbor_degree': n_ABCDEF,\n",
    "                            'assortativity': as_ABCDEF,\n",
    "                            'transitivity': t_ABCDEF,\n",
    "                            'number_strong_comp': nsc_ABCDEF,\n",
    "                            'entropy_centr': ect_ABCDEF,\n",
    "                            'entropy_clos': ecl_ABDCEF,\n",
    "                            'sparseness': s_ABCDEF,\n",
    "                            'nodes': nt_ABCDEF,\n",
    "                              'edges': et_ABCDEF,\n",
    "                              'node_connectivity': cont_ABCDEF,\n",
    "                             'density': dt_ABCDEF,\n",
    "                             'self_loop': slt_ABCDEF,\n",
    "                            'girth': gt_ABCDEF})\n",
    "df_subtask_2.head()"
   ]
  },
  {
   "cell_type": "code",
   "execution_count": null,
   "id": "8f17ab0e",
   "metadata": {},
   "outputs": [],
   "source": [
    "df_subtask_2.to_csv('data-subtask_2.csv', index=False)"
   ]
  }
 ],
 "metadata": {
  "kernelspec": {
   "display_name": "Python 3 (ipykernel)",
   "language": "python",
   "name": "python3"
  },
  "language_info": {
   "codemirror_mode": {
    "name": "ipython",
    "version": 3
   },
   "file_extension": ".py",
   "mimetype": "text/x-python",
   "name": "python",
   "nbconvert_exporter": "python",
   "pygments_lexer": "ipython3",
   "version": "3.12.3"
  }
 },
 "nbformat": 4,
 "nbformat_minor": 5
}
